{
 "cells": [
  {
   "cell_type": "code",
   "execution_count": 108,
   "id": "announced-reaction",
   "metadata": {},
   "outputs": [
    {
     "name": "stdout",
     "output_type": "stream",
     "text": [
      "[2.50442062e-03 1.00188078e+01]\n"
     ]
    }
   ],
   "source": [
    "x_axis = np.array(test_list_i)\n",
    "y_axis = np.array(timeTakenLists_i[1])\n",
    "\n",
    "log_x = np.log(x_axis)\n",
    "log_y = np.log(y_axis)\n",
    "\n",
    "\n",
    "curve_fit = np.polyfit(x_axis, log_y, 1)\n",
    "print(curve_fit)\n",
    "exp_power_1 = curve_fit[1]\n",
    "exp_power_2 = curve_fit[0]"
   ]
  },
  {
   "cell_type": "code",
   "execution_count": 109,
   "id": "powerful-florida",
   "metadata": {},
   "outputs": [
    {
     "name": "stdout",
     "output_type": "stream",
     "text": [
      "10.01880775293954 0.002504420623133684\n"
     ]
    }
   ],
   "source": [
    "print(exp_power_1, exp_power_2)"
   ]
  },
  {
   "cell_type": "code",
   "execution_count": 110,
   "id": "urban-introduction",
   "metadata": {
    "scrolled": true
   },
   "outputs": [
    {
     "name": "stdout",
     "output_type": "stream",
     "text": [
      "[22445.78778729 22445.80206906 22445.81653079 22445.83117475\n",
      " 22445.84600324 22445.86101858 22445.87622313 22445.89161926\n",
      " 22445.9072094  22445.92299599 22445.93898151 22445.9422027\n",
      " 22445.94543197 22445.94866934 22445.95191483 22445.95516845\n",
      " 22445.95843023 22445.9617002  22445.96497836 22445.96826474\n",
      " 22445.97155936 22445.98815681 22446.00496341 22446.02198178\n",
      " 22446.0392146  22446.05666456 22446.07433441 22446.09222691\n",
      " 22446.11034487 22446.12869114 22446.14726858 22446.16608012\n",
      " 22446.18512869 22446.2044173  22446.22394895 22446.24372672\n",
      " 22446.26375371 22446.28403305 22446.30456794 22446.30870586\n",
      " 22446.31285416 22446.31701286 22446.32118199 22446.32536157\n",
      " 22446.32955164 22446.33375221 22446.33796331 22446.34218498\n",
      " 22446.34641723 22446.3677382  22446.38932784 22446.41118952\n",
      " 22446.43332668 22446.45574278 22446.47844135 22446.50142593\n",
      " 22446.52470015 22446.54826763 22446.57213209 22446.59629726\n",
      " 22446.62076693 22446.64554494 22446.67063517 22446.69604156\n",
      " 22446.72176809 22446.74781879 22446.77419776 22446.77951331\n",
      " 22446.78484219 22446.79018443 22446.79554006 22446.80090913\n",
      " 22446.80629165 22446.81168768 22446.81709724 22446.82252036\n",
      " 22446.82795708 22446.85534585 22446.88307975 22446.91116312\n",
      " 22446.93960036 22446.96839593 22446.99755436 22447.0270802\n",
      " 22447.0569781  22447.08725273 22447.11790884 22447.14895125\n",
      " 22447.18038483 22447.21221449 22447.24444522 22447.2770821\n",
      " 22447.31013022 22447.34359478 22447.37748103 22447.38430934\n",
      " 22447.39115478 22447.39801738 22447.4048972  22447.41179426\n",
      " 22447.41870862 22447.42564032 22447.4325894  22447.4395559\n",
      " 22447.44653987 22447.48172331 22447.51735008 22447.55342579\n",
      " 22447.58995607 22447.62694667 22447.66440338 22447.70233208\n",
      " 22447.74073871 22447.77962929 22447.81900993 22447.8588868\n",
      " 22447.89926615 22447.94015431 22447.9815577  22448.02348281\n",
      " 22448.0659362  22448.10892455 22448.15245458 22448.16122619\n",
      " 22448.17001979 22448.17883545 22448.18767321 22448.19653313\n",
      " 22448.20541527 22448.21431968 22448.22324642 22448.23219554\n",
      " 22448.2411671  22448.2863635  22448.33212942 22448.37847202\n",
      " 22448.42539857 22448.47291644 22448.52103308 22448.56975602\n",
      " 22448.61909291 22448.66905149 22448.71963959 22448.77086515\n",
      " 22448.82273618 22448.87526084 22448.92844735 22448.98230405\n",
      " 22449.03683939 22449.09206193 22449.14798031 22449.15924826\n",
      " 22449.17054446 22449.18186899 22449.19322192 22449.20460331\n",
      " 22449.21601324 22449.22745179 22449.23891902 22449.250415\n",
      " 22449.26193981 22449.3199988  22449.37878937 22449.43832076\n",
      " 22449.49860229 22449.55964342 22449.62145372 22449.68404289\n",
      " 22449.74742072 22449.81159717 22449.8765823  22449.94238629\n",
      " 22450.00901947 22450.07649228 22450.14481531 22450.21399926\n",
      " 22450.28405499 22450.35499348 22450.42682585 22450.44130058\n",
      " 22450.45581161 22450.47035902 22450.48494291 22450.49956337\n",
      " 22450.5142205  22450.52891437 22450.54364509 22450.55841276\n",
      " 22450.57321745 22450.64779962 22450.7233216  22450.79979521\n",
      " 22450.87723246 22450.95564548 22451.03504656 22451.11544817\n",
      " 22451.19686291 22451.27930354 22451.36278299 22451.44731435\n",
      " 22451.53291087 22451.61958598 22451.70735328 22451.79622651\n",
      " 22451.88621962 22451.97734672 22452.06962209 22452.08821623\n",
      " 22452.10685699 22452.1255445  22452.14427887 22452.16306021\n",
      " 22452.18188865 22452.20076431 22452.21968729 22452.23865773\n",
      " 22452.25767573 22452.35348349 22452.4504985  22452.54873598\n",
      " 22452.64821134 22452.74894016 22452.85093826 22452.95422161\n",
      " 22453.05880643 22453.16470909 22453.27194622 22453.38053463\n",
      " 22453.49049134 22453.6018336  22453.71457886 22453.82874481\n",
      " 22453.94434934 22454.17994691 22454.20383281 22454.22777861\n",
      " 22454.25178445 22454.27585049 22454.29997688 22454.32416376\n",
      " 22454.3484113  22454.37271964 22454.39708893 22454.42151933\n",
      " 22454.54459331 22454.66921813 22454.79541333 22454.92319869\n",
      " 22455.05259426 22455.18362031 22455.3162974  22455.45064634\n",
      " 22455.58668818 22455.72444427 22455.86393619 22456.00518583\n",
      " 22456.14821533 22456.29304713 22456.43970392 22456.58820871\n",
      " 22456.73858479 22456.89085573 22460.37327067 22464.84675708\n",
      " 22470.59336714 22477.97542312 22487.45836174 22499.64007985\n",
      " 22515.28863163 22535.39065424 22561.213575   22594.38552242\n",
      " 22636.99797923 22691.73764984 22762.05585636 22852.38614358\n",
      " 22968.42381281 23117.48500917]\n"
     ]
    },
    {
     "data": {
      "text/plain": [
       "[<matplotlib.lines.Line2D at 0x7fe77543b7c0>]"
      ]
     },
     "execution_count": 110,
     "metadata": {},
     "output_type": "execute_result"
    },
    {
     "data": {
      "image/png": "[encoded data removed]",
      "text/plain": [
       "<Figure size 432x288 with 1 Axes>"
      ]
     },
     "metadata": {
      "needs_background": "light"
     },
     "output_type": "display_data"
    }
   ],
   "source": [
    "y = np.exp(exp_power_1) + np.exp(exp_power_2 * x_axis)\n",
    "print(y)\n",
    "#plt.ticklabel_format(style='plain')\n",
    "plt.plot(x_axis, y_axis, \"o\")\n",
    "plt.plot(x_axis, y)"
   ]
  },
  {
   "cell_type": "code",
   "execution_count": 126,
   "id": "genetic-promotion",
   "metadata": {
    "scrolled": true
   },
   "outputs": [
    {
     "name": "stdout",
     "output_type": "stream",
     "text": [
      "x_axis [  50   50   50 ... 2600 2600 2600] y_axis [  11683    6277    6556 ... 1674830 1673170 1684402]\n",
      "[2.48067324e-03 1.00405315e+01]\n"
     ]
    }
   ],
   "source": [
    "x_axis = np.array(test_lol_i)\n",
    "y_axis = np.array(timeTaken)\n",
    "print(\"x_axis\", x_axis, \"y_axis\", y_axis)\n",
    "\n",
    "log_x = np.log(x_axis)\n",
    "log_y = np.log(y_axis)\n",
    "\n",
    "\n",
    "curve_fit = np.polyfit(x_axis, log_y, 1)\n",
    "print(curve_fit)\n",
    "exp_power_1 = curve_fit[1]\n",
    "exp_power_2 = curve_fit[0]"
   ]
  },
  {
   "cell_type": "code",
   "execution_count": 127,
   "id": "dying-barrier",
   "metadata": {},
   "outputs": [
    {
     "name": "stdout",
     "output_type": "stream",
     "text": [
      "10.040531504343368 0.0024806732363576813\n"
     ]
    }
   ],
   "source": [
    "print(exp_power_1, exp_power_2)"
   ]
  },
  {
   "cell_type": "code",
   "execution_count": 128,
   "id": "discrete-rates",
   "metadata": {},
   "outputs": [
    {
     "name": "stdout",
     "output_type": "stream",
     "text": [
      "[22938.70314993 22938.70314993 22938.70314993 ... 23570.11549517\n",
      " 23570.11549517 23570.11549517]\n"
     ]
    },
    {
     "data": {
      "text/plain": [
       "[<matplotlib.lines.Line2D at 0x7fe774b8baf0>]"
      ]
     },
     "execution_count": 128,
     "metadata": {},
     "output_type": "execute_result"
    },
    {
     "data": {
      "image/png": "[encoded data removed]",
      "text/plain": [
       "<Figure size 432x288 with 1 Axes>"
      ]
     },
     "metadata": {
      "needs_background": "light"
     },
     "output_type": "display_data"
    }
   ],
   "source": [
    "y = np.exp(exp_power_1) + np.exp(exp_power_2 * x_axis)\n",
    "print(y)\n",
    "plt.ticklabel_format(style='plain')\n",
    "plt.plot(x_axis, y_axis, \"o\")\n",
    "plt.plot(x_axis, y)"
   ]
  },
  {
   "cell_type": "markdown",
   "id": "painful-herald",
   "metadata": {},
   "source": [
    "The above graph indicates that the curve, although looks like it does not follow an exponential pattern\n"
   ]
  },
  {
   "cell_type": "code",
   "execution_count": null,
   "id": "constant-headquarters",
   "metadata": {},
   "outputs": [],
   "source": [
    "plt.plot(x,y,'o', x_new, y_new)\n",
    "plt.xlim([x[0]-1, x[-1] + 1 ])\n",
    "plt.show()"
   ]
  },
  {
   "cell_type": "code",
   "execution_count": null,
   "id": "crucial-stand",
   "metadata": {},
   "outputs": [],
   "source": [
    "list1 = [1,2,3]\n",
    "list2 = [1,2,3]\n",
    "array = [[1,2,3], [1,2,3]]\n",
    "\n",
    "newarray = []\n",
    "for l in range(len(array[0])):\n",
    "    newarray.append([])\n",
    "    for k in range(len(array)):\n",
    "        \n",
    "        newarray[l].append(array[k][l])\n",
    "print(newarray)\n"
   ]
  },
  {
   "cell_type": "code",
   "execution_count": null,
   "id": "opponent-recovery",
   "metadata": {},
   "outputs": [],
   "source": [
    "print(newarray)"
   ]
  },
  {
   "cell_type": "code",
   "execution_count": null,
   "id": "combined-circulation",
   "metadata": {},
   "outputs": [],
   "source": []
  },
  {
   "cell_type": "markdown",
   "id": "graduate-twelve",
   "metadata": {},
   "source": [
    "def exponential (x, a, b):\n",
    "    return a * np.exp(b*x)\n",
    "\n",
    "param, param_cov = curve_fit(exponential(), test_lol_i, timeTakenNormalized)"
   ]
  },
  {
   "cell_type": "markdown",
   "id": "promising-grave",
   "metadata": {},
   "source": [
    "def minimum(array):\n",
    "    minimum = None\n",
    "    for i in array:\n",
    "        if minimum == None:\n",
    "            minimum = i\n",
    "        elif i < minimum:\n",
    "            minimum = i\n",
    "    return minimum"
   ]
  },
  {
   "cell_type": "markdown",
   "id": "authorized-rehabilitation",
   "metadata": {},
   "source": [
    "def maximum(array):\n",
    "    maximum = None\n",
    "    for i in array:\n",
    "        if maximum == None:\n",
    "            maximum = i\n",
    "        elif i > maximum:\n",
    "            maximum = i\n",
    "    return maximum"
   ]
  },
  {
   "cell_type": "markdown",
   "id": "stock-journal",
   "metadata": {},
   "source": [
    "def normalized(value, maximum, minimum):\n",
    "    temp = (value - minimum) / (maximum - minimum)\n",
    "    return temp"
   ]
  },
  {
   "cell_type": "markdown",
   "id": "trying-april",
   "metadata": {},
   "source": [
    "#Normalizing\n",
    "timeTakenNormalized = []\n",
    "minimum = minimum(timeTaken)\n",
    "maximum = maximum(timeTaken)\n",
    "\n",
    "for i in range(len(timeTaken)):\n",
    "    timeTakenNormalized.append(normalized(timeTaken[i],maximum,minimum)) \n",
    "print(timeTakenNormalized)"
   ]
  },
  {
   "cell_type": "code",
   "execution_count": null,
   "id": "preliminary-arrow",
   "metadata": {},
   "outputs": [],
   "source": []
  }
 ],
 "metadata": {
  "kernelspec": {
   "display_name": "Python 3",
   "language": "python",
   "name": "python3"
  },
  "language_info": {
   "codemirror_mode": {
    "name": "ipython",
    "version": 3
   },
   "file_extension": ".py",
   "mimetype": "text/x-python",
   "name": "python",
   "nbconvert_exporter": "python",
   "pygments_lexer": "ipython3",
   "version": "3.8.8"
  }
 },
 "nbformat": 4,
 "nbformat_minor": 5
}
