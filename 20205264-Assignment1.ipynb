{
 "cells": [
  {
   "cell_type": "code",
   "execution_count": 1,
   "metadata": {},
   "outputs": [],
   "source": [
    "import time\n",
    "import bisect\n",
    "import pandas as pd\n",
    "import matplotlib.pyplot as plt\n",
    "import numpy as np\n",
    "import matplotlib.patches as mpatches\n",
    "import sklearn\n",
    "from sklearn import datasets, linear_model\n",
    "from sklearn.metrics import mean_squared_error, r2_score\n",
    "from scipy.optimize import curve_fit\n",
    "from matplotlib.backends.backend_pdf import PdfPages"
   ]
  },
  {
   "cell_type": "markdown",
   "metadata": {},
   "source": [
    "“Please note that  the submission is an ipython notebook with explanations in markdown. Please save images of the graphs you output and include in your submission a zipped folder with the jupyter notebook and images. This is because the graphs output by the notebook will differ depending on the machine, OS etc, and we may not see the same image you do when we run the notebook to grade. You only need to add \"plt.savefig('file_nameXX.png')\" at the end of the cell where you plot.”"
   ]
  },
  {
   "cell_type": "code",
   "execution_count": 2,
   "metadata": {},
   "outputs": [],
   "source": [
    "test_list_i = [1,2,3,4,5,6,7,8,9,10,15,20,25,30,35,40,45,50,55,60,65,70,75,80,85,90,95,100,101,102,103,104,105,106,107,108,109,110,115,120,125,130,135,140,145,150,155,160,165,170,175,180,185,190,195,200,201,202,203,204,205,206,207,208,209,210,215,220,225,230,235,240,245,250,255,260,265,270,275,280,285,290,295,300,301,302,303,304,305,306,307,308,309,310,315,320,325,330,335,340,345,350,355,360,365,370,375,380,385,390,395,400,401,402,403,404,405,406,407,408,409,410,415,420,425,430,435,440,445,450,455,460,465,470,475,480,485,490,495,500,501,502,503,504,505,506,507,508,509,510,515,520,525,530,535,540,545,550,555,560,565,570,575,580,585,590,595,600,601,602,603,604,605,606,607,608,609,610,615,620,625,630,635,640,645,650,655,660,665,670,675,680,685,690,695,700,701,702,703,704,705,706,707,708,709,710,715,720,725,730,735,740,745,750,755,760,765,770,775,780,785,790,795,800,801,802,803,804,805,806,807,808,809,810,815,820,825,830,835,840,845,850,855,860,865,870,875,880,885,890,900,901,902,903,904,905,906,907,908,909,910,915,920,925,930,935,940,945,950,955,960,965,970,975,980,985,990,995,1000,1100,1200,1300,1400,1500,1600,1700,1800,1900,2000,2100,2200,2300,2400,2500,2600]\n",
    "test_list_r = [1,2,3,4,5,6,7,8,9,10,15,20,25,30,35,40,45,50,55,60,65,70,75,80,85,90,95,100,101,102,103,104,105,106,107,108,109,110,115,120,125,130,135,140,145,150,155,160,165,170,175,180,185,190,195,200,201,202,203,204,205,206,207,208,209,210,215,220,225,230,235,240,245,250,255,260,265,270,275,280,285,290,295,300,301,302,303,304,305,306,307,308,309,310,315,320,325,330,335,340,345,350,355,360,365,370,375,380,385,390,395,400,401,402,403,404,405,406,407,408,409,410,415,420,425,430,435,440,445,450,455,460,465,470,475,480,485,490,495,500,501,502,503,504,505,506,507,508,509,510,515,520,525,530,535,540,545,550,555,560,565,570,575,580,585,590,595,600,601,602,603,604,605,606,607,608,609,610,615,620,625,630,635,640,645,650,655,660,665,670,675,680,685,690,695,700,701,702,703,704,705,706,707,708,709,710,715,720,725,730,735,740,745,750,755,760,765,770,775,780,785,790,795,800,801,802,803,804,805,806,807,808,809,810,815,820,825,830,835,840,845,850,855,860,865,870,875,880,885,890,900,901,902,903,904,905,906,907,908,909,910,915,920,925,930,935,940,945,950,955,960,965,970,975,980,985,990,995,1000,1100,1200,1300,1400,1500,1600,1700,1800,1900,2000,2100,2200,2300,2400,2500,2600]"
   ]
  },
  {
   "cell_type": "code",
   "execution_count": 3,
   "metadata": {},
   "outputs": [],
   "source": [
    "numOfIterations = 10"
   ]
  },
  {
   "cell_type": "markdown",
   "metadata": {},
   "source": [
    "## Iterative Factorial Function\n"
   ]
  },
  {
   "cell_type": "code",
   "execution_count": 4,
   "metadata": {},
   "outputs": [],
   "source": [
    "def fact_i(x):\n",
    "    tic = time.perf_counter_ns()\n",
    "    i = 1\n",
    "    fact = 1\n",
    "    while i <= x:\n",
    "        fact *= i\n",
    "        i += 1\n",
    "    toc = time.perf_counter_ns()\n",
    "    seconds = toc - tic\n",
    "    \n",
    "    return [fact, seconds]"
   ]
  },
  {
   "cell_type": "code",
   "execution_count": 5,
   "metadata": {},
   "outputs": [],
   "source": [
    "j = 0\n",
    "timeTakenLists_i = []\n",
    "while j < numOfIterations:\n",
    "    factResults_i = []\n",
    "    timeTaken_i = []\n",
    "    for i in test_list_i:\n",
    "        temp = fact_i(i)\n",
    "        factResults_i.append(temp[0])\n",
    "        timeTaken_i.append(round(temp[1],4))\n",
    "    timeTakenLists_i.append(timeTaken_i)\n",
    "    j += 1"
   ]
  },
  {
   "cell_type": "code",
   "execution_count": 6,
   "metadata": {},
   "outputs": [],
   "source": [
    "timePerFact_i = []\n",
    "for l in range(len(timeTakenLists_i[0])):\n",
    "    timePerFact_i.append([])\n",
    "    for k in range(len(timeTakenLists_i)):\n",
    "        timePerFact_i[l].append(timeTakenLists_i[k][l])"
   ]
  },
  {
   "cell_type": "code",
   "execution_count": 7,
   "metadata": {},
   "outputs": [],
   "source": [
    "timeAverages_i = []\n",
    "for m in range(len(timePerFact_i)):\n",
    "    timeSum_i = sum(timePerFact_i[m])\n",
    "    timeAverages_i.append(timeSum_i / len(timePerFact_i[0]))"
   ]
  },
  {
   "cell_type": "code",
   "execution_count": 8,
   "metadata": {},
   "outputs": [
    {
     "data": {
      "image/png": "[encoded data removed]",
      "text/plain": [
       "<Figure size 432x288 with 1 Axes>"
      ]
     },
     "metadata": {
      "needs_background": "light"
     },
     "output_type": "display_data"
    }
   ],
   "source": [
    "plt.plot(test_list_i,timeAverages_i)\n",
    "plt.ticklabel_format(style='plain')\n",
    "plt.xlabel('Factorial to compute')\n",
    "plt.ylabel('Time Taken (ns)')\n",
    "plt.title('Time taken for factorials to be calculated iteratively.')\n",
    "plt.show()"
   ]
  },
  {
   "cell_type": "markdown",
   "metadata": {},
   "source": [
    "### Discussion of iterative function results"
   ]
  },
  {
   "cell_type": "markdown",
   "metadata": {},
   "source": [
    "As expected the time taken to solve a factorial iteratively grows based on the size of the factorial being calculated. A reduction in the noisyness of the graph is created by getting the average of the times over a number of iterations. This function would have a O(n) due to the while loop iterating through the multplications."
   ]
  },
  {
   "cell_type": "markdown",
   "metadata": {},
   "source": [
    "## Recursive Factorial Function\n"
   ]
  },
  {
   "cell_type": "code",
   "execution_count": 9,
   "metadata": {},
   "outputs": [],
   "source": [
    "def fact_r(n):\n",
    "    \"\"\"Function to return the factorial of a number using recursion\"\"\"\n",
    "    tic = time.perf_counter_ns()\n",
    "    if n == 0:\n",
    "        factorials = 1\n",
    "    else:\n",
    "        factorials = n * fact_r(n-1)\n",
    "    toc = time.perf_counter_ns()\n",
    "    timeTaken = toc - tic\n",
    "    \n",
    "    return [factorials, timeTaken]"
   ]
  },
  {
   "cell_type": "code",
   "execution_count": 10,
   "metadata": {},
   "outputs": [],
   "source": [
    "x = 0\n",
    "timeTakenLists_r = []\n",
    "while x < numOfIterations:\n",
    "    factResults_r = []\n",
    "    timeTaken_r = []\n",
    "    for i in test_list_r:\n",
    "        temp = fact_r(i)\n",
    "        factResults_r.append(temp[0])\n",
    "        timeTaken_r.append(temp[1])\n",
    "    timeTakenLists_r.append(timeTaken_r)\n",
    "    x += 1"
   ]
  },
  {
   "cell_type": "code",
   "execution_count": 11,
   "metadata": {},
   "outputs": [],
   "source": [
    "timePerFact_r = []\n",
    "for l in range(len(timeTakenLists_r[0])):\n",
    "    timePerFact_r.append([])\n",
    "    for k in range(len(timeTakenLists_r)):\n",
    "        timePerFact_r[l].append(timeTakenLists_r[k][l])"
   ]
  },
  {
   "cell_type": "code",
   "execution_count": 12,
   "metadata": {},
   "outputs": [],
   "source": [
    "timeAverages_r = []\n",
    "for m in range(len(timePerFact_r)):\n",
    "    timeSum_r = sum(timePerFact_r[m])\n",
    "    timeAverages_r.append(timeSum_r / len(timePerFact_r[0]))"
   ]
  },
  {
   "cell_type": "code",
   "execution_count": 13,
   "metadata": {},
   "outputs": [
    {
     "data": {
      "image/png": "[encoded data removed]",
      "text/plain": [
       "<Figure size 432x288 with 1 Axes>"
      ]
     },
     "metadata": {
      "needs_background": "light"
     },
     "output_type": "display_data"
    }
   ],
   "source": [
    "plt.plot(test_list_r, timeAverages_r)\n",
    "plt.ticklabel_format(style='plain')\n",
    "plt.xlabel('Factorial to compute')\n",
    "plt.ylabel('Time Taken (ns)')\n",
    "plt.title('Time taken for factorials to be calculated recursively.')\n",
    "plt.show()"
   ]
  },
  {
   "cell_type": "markdown",
   "metadata": {},
   "source": [
    "### Discussion for recursive factorial results"
   ]
  },
  {
   "cell_type": "markdown",
   "metadata": {},
   "source": [
    "The non-tail recursive function shows a different story. It is both slower and less powerful than the iterative function. During testing it was determined that the recursive function could calculate the factorial of 2500 before stack over flow, however, it could not do 3000. Again the notation seems to be O(n) and yet it is quite a bit slower than the iterative function. During testing it was discovered that the time taken to calculate the factorial is not consistent. It is noted that some of this can be due to the processer working, however, the results did not smooth out with averaging of the times like the iterative function."
   ]
  },
  {
   "cell_type": "markdown",
   "metadata": {},
   "source": [
    "# Searching\n",
    "\n",
    "Note due to the larger integers being caluclated, a slice of the original factorial results was taken for searching analysis. A Slice between index 0 and 45 was taken to allow the curve-fit program to work."
   ]
  },
  {
   "cell_type": "code",
   "execution_count": 82,
   "metadata": {},
   "outputs": [],
   "source": [
    "sequence = factResults_i[:46]"
   ]
  },
  {
   "cell_type": "markdown",
   "metadata": {},
   "source": [
    "## Linear Search\n",
    "\n",
    "\n",
    "Compare pythons inbuilt index feature with my linear search function\n",
    "\n",
    "Using the answers sequence from the iterative and recursive functions in order to keep a consistent sequence. Due to fluxuations in times due to the work the CPU is completing at the same time, the time sequences may not be exact.\n",
    "\n"
   ]
  },
  {
   "cell_type": "code",
   "execution_count": 16,
   "metadata": {},
   "outputs": [],
   "source": [
    "bestCase_lin = sequence[0]\n",
    "worstCase_lin = sequence[-1]\n",
    "missingCase_lin = -1"
   ]
  },
  {
   "cell_type": "markdown",
   "metadata": {},
   "source": [
    "### Python's .index() method\n"
   ]
  },
  {
   "cell_type": "code",
   "execution_count": 17,
   "metadata": {},
   "outputs": [],
   "source": [
    "timeTakenBCIn = []\n",
    "i = 0\n",
    "while i < numOfIterations:\n",
    "    tic = time.perf_counter_ns()\n",
    "    bestCaseIndex = sequence.index(bestCase_lin)\n",
    "    toc = time.perf_counter_ns()\n",
    "    timeTakenBCIn.append(toc - tic)\n",
    "    i += 1"
   ]
  },
  {
   "cell_type": "code",
   "execution_count": 18,
   "metadata": {},
   "outputs": [],
   "source": [
    "timeTakenBCInAvg = sum(timeTakenBCIn) / len(timeTakenBCIn)"
   ]
  },
  {
   "cell_type": "code",
   "execution_count": 19,
   "metadata": {},
   "outputs": [],
   "source": [
    "timeTakenWCIn = []\n",
    "i = 0\n",
    "while i < numOfIterations:\n",
    "    tic = time.perf_counter_ns()\n",
    "    worstCaseIndex = sequence.index(worstCase_lin)\n",
    "    toc = time.perf_counter_ns()\n",
    "    timeTakenWCIn.append(toc - tic)\n",
    "    i += 1"
   ]
  },
  {
   "cell_type": "code",
   "execution_count": 20,
   "metadata": {},
   "outputs": [],
   "source": [
    "timeTakenWCInAvg = sum(timeTakenWCIn) / len(timeTakenWCIn)"
   ]
  },
  {
   "cell_type": "code",
   "execution_count": 21,
   "metadata": {},
   "outputs": [],
   "source": [
    "timeTakenMCIn = []\n",
    "i = 0\n",
    "while i < numOfIterations:\n",
    "    tic = time.perf_counter_ns()\n",
    "    try:\n",
    "        Index = sequence.index(missingCase_lin)\n",
    "    except:\n",
    "        error = \"error\"\n",
    "    toc = time.perf_counter_ns()\n",
    "    timeTakenMCIn.append(toc - tic)\n",
    "    i += 1"
   ]
  },
  {
   "cell_type": "code",
   "execution_count": 22,
   "metadata": {},
   "outputs": [],
   "source": [
    "timeTakenMCInAvg = sum(timeTakenMCIn) / len(timeTakenMCIn)"
   ]
  },
  {
   "cell_type": "code",
   "execution_count": 23,
   "metadata": {},
   "outputs": [],
   "source": [
    "timeTakenListIn = [timeTakenBCInAvg, timeTakenMCInAvg, timeTakenWCInAvg]\n",
    "casesListIn = [\"bestCase\", \"missingCase\", \"worstCase\"]"
   ]
  },
  {
   "cell_type": "code",
   "execution_count": 84,
   "metadata": {},
   "outputs": [
    {
     "data": {
      "image/png": "[encoded data removed]",
      "text/plain": [
       "<Figure size 432x288 with 1 Axes>"
      ]
     },
     "metadata": {
      "needs_background": "light"
     },
     "output_type": "display_data"
    }
   ],
   "source": [
    "plt.plot(casesListIn, timeTakenListIn)\n",
    "plt.ylabel('Time Taken (ns)')\n",
    "plt.title('Time taken for a linear search to be completed using .index()')\n",
    "plt.show()"
   ]
  },
  {
   "cell_type": "markdown",
   "metadata": {},
   "source": [
    "In this case the worstcase value is in the list where as its quicker to calculate the missing number"
   ]
  },
  {
   "cell_type": "markdown",
   "metadata": {},
   "source": [
    "### Linear Search Function"
   ]
  },
  {
   "cell_type": "code",
   "execution_count": 25,
   "metadata": {},
   "outputs": [],
   "source": [
    "def linearSearch(array, x):\n",
    "    error = 0\n",
    "    try:\n",
    "        for i in range(len(array)):\n",
    "            if (array[i] == x):\n",
    "                return i\n",
    "    except:\n",
    "        error = \"error\"\n",
    "        return error"
   ]
  },
  {
   "cell_type": "code",
   "execution_count": 26,
   "metadata": {},
   "outputs": [],
   "source": [
    "timeTakenListBL = []\n",
    "y = 0\n",
    "while y < numOfIterations:\n",
    "    tic = time.perf_counter_ns()\n",
    "    bestLinear = linearSearch(sequence, bestCase_lin)\n",
    "    toc = time.perf_counter_ns()\n",
    "    timeTakenListBL.append(toc - tic)\n",
    "    y += 1"
   ]
  },
  {
   "cell_type": "code",
   "execution_count": 27,
   "metadata": {},
   "outputs": [],
   "source": [
    "timeTakenBLAvg = sum(timeTakenListBL) / len(timeTakenListBL)"
   ]
  },
  {
   "cell_type": "code",
   "execution_count": 28,
   "metadata": {},
   "outputs": [],
   "source": [
    "timeTakenListWL = []\n",
    "y = 0\n",
    "while y < numOfIterations:\n",
    "    tic = time.perf_counter_ns()\n",
    "    worstLinear = linearSearch(sequence, worstCase_lin)\n",
    "    toc = time.perf_counter_ns()\n",
    "    timeTakenListWL.append(toc - tic)\n",
    "    y += 1"
   ]
  },
  {
   "cell_type": "code",
   "execution_count": 29,
   "metadata": {},
   "outputs": [],
   "source": [
    "timeTakenWLAvg = sum(timeTakenListWL) / len(timeTakenListWL)"
   ]
  },
  {
   "cell_type": "code",
   "execution_count": 30,
   "metadata": {},
   "outputs": [
    {
     "name": "stdout",
     "output_type": "stream",
     "text": [
      "[15677, 7863, 6405, 6198, 6203, 5819, 5881, 5691, 5701, 5698]\n"
     ]
    }
   ],
   "source": [
    "timeTakenListML = []\n",
    "y = 0\n",
    "while y < numOfIterations:\n",
    "    tic = time.perf_counter_ns()\n",
    "    missingLinear = linearSearch(sequence, missingCase_lin)\n",
    "    toc = time.perf_counter_ns()\n",
    "    timeTakenListML.append(toc - tic)\n",
    "    y += 1\n",
    "print(timeTakenListML)"
   ]
  },
  {
   "cell_type": "code",
   "execution_count": 31,
   "metadata": {},
   "outputs": [],
   "source": [
    "timeTakenMLAvg = sum(timeTakenListML) / len(timeTakenListML)"
   ]
  },
  {
   "cell_type": "code",
   "execution_count": 32,
   "metadata": {},
   "outputs": [],
   "source": [
    "timeTakenListLin = [timeTakenBLAvg, timeTakenMLAvg, timeTakenWLAvg]\n",
    "casesListIn = [\"bestCase\", \"missingCase\", \"worstCase\"]"
   ]
  },
  {
   "cell_type": "code",
   "execution_count": 85,
   "metadata": {},
   "outputs": [
    {
     "data": {
      "image/png": "[encoded data removed]",
      "text/plain": [
       "<Figure size 432x288 with 1 Axes>"
      ]
     },
     "metadata": {
      "needs_background": "light"
     },
     "output_type": "display_data"
    }
   ],
   "source": [
    "plt.plot(casesListIn, timeTakenListLin)\n",
    "plt.ylabel('Time Taken (ns)')\n",
    "plt.title('Time taken a linear search to be completed using created function')\n",
    "plt.show()"
   ]
  },
  {
   "cell_type": "markdown",
   "metadata": {},
   "source": [
    "Unlike the index method, the missingcase takes longer than the worst case. This could be down to how the index method searches the list for the value, or it could be down to processor speed. During he testing the missing and worst case would alternate between which had the longer time."
   ]
  },
  {
   "cell_type": "markdown",
   "metadata": {},
   "source": [
    "## Binary Search using bisect() method\n"
   ]
  },
  {
   "cell_type": "code",
   "execution_count": 34,
   "metadata": {},
   "outputs": [
    {
     "name": "stdout",
     "output_type": "stream",
     "text": [
      "22\n"
     ]
    }
   ],
   "source": [
    "halfway = (0 + (len(sequence)-1)) // 2\n",
    "print(halfway)\n",
    "bestCase_b = sequence[halfway]\n",
    "worstCase_b = sequence[-1]\n",
    "missingCase_b = -1"
   ]
  },
  {
   "cell_type": "code",
   "execution_count": 35,
   "metadata": {},
   "outputs": [],
   "source": [
    "def bisectSearch(array, value):\n",
    "    try:\n",
    "        i = bisect.bisect_left(array, value)\n",
    "        if i < len(array) and array[i] == value:\n",
    "            return i\n",
    "    except:\n",
    "        return \"error\""
   ]
  },
  {
   "cell_type": "code",
   "execution_count": 36,
   "metadata": {},
   "outputs": [
    {
     "name": "stdout",
     "output_type": "stream",
     "text": [
      "22\n"
     ]
    }
   ],
   "source": [
    "timeTakenListBB = []\n",
    "y = 0\n",
    "while y < numOfIterations:\n",
    "    tic = time.perf_counter_ns()\n",
    "    bestBinary = bisectSearch(sequence, bestCase_b)\n",
    "    toc = time.perf_counter_ns()\n",
    "    timeTakenListBB.append(toc - tic)\n",
    "    y += 1\n",
    "print(bestBinary)"
   ]
  },
  {
   "cell_type": "code",
   "execution_count": 37,
   "metadata": {},
   "outputs": [],
   "source": [
    "timeTakenBBAvg = sum(timeTakenListBB) / len(timeTakenListBB)"
   ]
  },
  {
   "cell_type": "code",
   "execution_count": 38,
   "metadata": {},
   "outputs": [],
   "source": [
    "timeTakenListWB = []\n",
    "y = 0\n",
    "while y < numOfIterations:\n",
    "    tic = time.perf_counter_ns()\n",
    "    worstBinary = bisectSearch(sequence, worstCase_b)\n",
    "    toc = time.perf_counter_ns()\n",
    "    timeTakenListWB.append(toc - tic)\n",
    "    y += 1"
   ]
  },
  {
   "cell_type": "code",
   "execution_count": 39,
   "metadata": {},
   "outputs": [],
   "source": [
    "timeTakenWBAvg = sum(timeTakenListWB) / len(timeTakenListWB)"
   ]
  },
  {
   "cell_type": "code",
   "execution_count": 40,
   "metadata": {},
   "outputs": [],
   "source": [
    "timeTakenListMB = []\n",
    "y = 0\n",
    "while y < numOfIterations:\n",
    "    tic = time.perf_counter_ns()\n",
    "    missingBinary = bisectSearch(sequence, missingCase_b)\n",
    "    toc = time.perf_counter_ns()\n",
    "    timeTakenListMB.append(toc - tic)\n",
    "    y += 1"
   ]
  },
  {
   "cell_type": "code",
   "execution_count": 41,
   "metadata": {},
   "outputs": [],
   "source": [
    "timeTakenMBAvg = sum(timeTakenListMB) / len(timeTakenListMB)"
   ]
  },
  {
   "cell_type": "code",
   "execution_count": 42,
   "metadata": {},
   "outputs": [],
   "source": [
    "timeTakenListBis = [timeTakenBBAvg, timeTakenMBAvg, timeTakenWBAvg]\n",
    "casesListIn = [\"bestCase\", \"missingCase\", \"worstCase\"]"
   ]
  },
  {
   "cell_type": "code",
   "execution_count": 86,
   "metadata": {},
   "outputs": [
    {
     "data": {
      "image/png": "[encoded data removed]",
      "text/plain": [
       "<Figure size 432x288 with 1 Axes>"
      ]
     },
     "metadata": {
      "needs_background": "light"
     },
     "output_type": "display_data"
    }
   ],
   "source": [
    "plt.plot(casesListIn, timeTakenListBis)\n",
    "plt.ylabel('Time Taken (ns)')\n",
    "plt.title('Time taken for binary search using .bisect() method')\n",
    "plt.show()"
   ]
  },
  {
   "cell_type": "markdown",
   "metadata": {},
   "source": [
    "## Binary Search Iteratively"
   ]
  },
  {
   "cell_type": "code",
   "execution_count": 44,
   "metadata": {},
   "outputs": [],
   "source": [
    "def binarySearchIterative(array, value):\n",
    "    try:\n",
    "        beginning = 0\n",
    "        end = (len(array)-1)\n",
    "        center = (beginning + end) // 2\n",
    "\n",
    "        if array[center] == value:\n",
    "                return center\n",
    "            \n",
    "        while beginning <= end:\n",
    "            center = (beginning + end) // 2\n",
    "            \n",
    "            if array[center] == value:\n",
    "                return center\n",
    "            \n",
    "            if array[center] < value:\n",
    "                beginning = center + 1\n",
    "            elif array[center] > value:\n",
    "                end = center - 1\n",
    "    except:\n",
    "        return \"error\"\n",
    "        "
   ]
  },
  {
   "cell_type": "code",
   "execution_count": 45,
   "metadata": {
    "scrolled": true
   },
   "outputs": [
    {
     "name": "stdout",
     "output_type": "stream",
     "text": [
      "22\n"
     ]
    }
   ],
   "source": [
    "timeTakenListBBI = []\n",
    "y = 0\n",
    "while y < numOfIterations:\n",
    "    tic = time.perf_counter_ns()\n",
    "    bestBinary = binarySearchIterative(sequence, bestCase_b)\n",
    "    toc = time.perf_counter_ns()\n",
    "    timeTakenListBBI.append(toc - tic)\n",
    "    y += 1\n",
    "print(bestBinary)"
   ]
  },
  {
   "cell_type": "code",
   "execution_count": 46,
   "metadata": {},
   "outputs": [],
   "source": [
    "timeTakenBBIAvg = sum(timeTakenListBBI) / len(timeTakenListBBI)"
   ]
  },
  {
   "cell_type": "code",
   "execution_count": 47,
   "metadata": {
    "scrolled": true
   },
   "outputs": [],
   "source": [
    "timeTakenListWBI = []\n",
    "y = 0\n",
    "while y < numOfIterations:\n",
    "    tic = time.perf_counter_ns()\n",
    "    worstBinary = binarySearchIterative(sequence, worstCase_b)\n",
    "    toc = time.perf_counter_ns()\n",
    "    timeTakenListWBI.append(toc - tic)\n",
    "    y += 1"
   ]
  },
  {
   "cell_type": "code",
   "execution_count": 48,
   "metadata": {},
   "outputs": [],
   "source": [
    "timeTakenWBIAvg = sum(timeTakenListWBI) / len(timeTakenListWBI)"
   ]
  },
  {
   "cell_type": "code",
   "execution_count": 49,
   "metadata": {
    "scrolled": true
   },
   "outputs": [],
   "source": [
    "timeTakenListMBI = []\n",
    "y = 0\n",
    "while y < numOfIterations:\n",
    "    tic = time.perf_counter_ns()\n",
    "    missingBinary = binarySearchIterative(sequence, missingCase_b)\n",
    "    toc = time.perf_counter_ns()\n",
    "    timeTakenListMBI.append(toc - tic)\n",
    "    y += 1"
   ]
  },
  {
   "cell_type": "code",
   "execution_count": 50,
   "metadata": {},
   "outputs": [],
   "source": [
    "timeTakenMBIAvg = sum(timeTakenListMBI) / len(timeTakenListMBI)"
   ]
  },
  {
   "cell_type": "code",
   "execution_count": 51,
   "metadata": {},
   "outputs": [],
   "source": [
    "timeTakenListBin = [timeTakenBBIAvg, timeTakenMBIAvg, timeTakenWBIAvg]\n",
    "casesListIn = [\"bestCase\", \"missingCase\", \"worstCase\"]"
   ]
  },
  {
   "cell_type": "code",
   "execution_count": 87,
   "metadata": {},
   "outputs": [
    {
     "data": {
      "image/png": "[encoded data removed]",
      "text/plain": [
       "<Figure size 432x288 with 1 Axes>"
      ]
     },
     "metadata": {
      "needs_background": "light"
     },
     "output_type": "display_data"
    }
   ],
   "source": [
    "plt.plot(casesListIn, timeTakenListBin)\n",
    "plt.ylabel('Time Taken (ns)')\n",
    "plt.title('Time taken for binary search using iterative methods')\n",
    "plt.show()"
   ]
  },
  {
   "cell_type": "markdown",
   "metadata": {},
   "source": [
    "## Binary Search Recursive Function"
   ]
  },
  {
   "cell_type": "code",
   "execution_count": 53,
   "metadata": {},
   "outputs": [],
   "source": [
    "def binarySearchRecursive(array, value):\n",
    "    def search(beginning, end):\n",
    "        if beginning <= end:\n",
    "            center = (beginning + end) // 2\n",
    "            if array[center] == value:\n",
    "                return True\n",
    "            elif array[center] < value:\n",
    "                return search(center + 1, end)\n",
    "            elif array[center] > value:\n",
    "                return search(beginning, center - 1)\n",
    "        return False\n",
    "    return search(0, len(array) - 1)"
   ]
  },
  {
   "cell_type": "code",
   "execution_count": 54,
   "metadata": {
    "scrolled": true
   },
   "outputs": [
    {
     "name": "stdout",
     "output_type": "stream",
     "text": [
      "True\n"
     ]
    }
   ],
   "source": [
    "timeTakenListBBR = []\n",
    "y = 0\n",
    "while y < numOfIterations:\n",
    "    tic = time.perf_counter_ns()\n",
    "    bestBinary = binarySearchRecursive(sequence, bestCase_b)\n",
    "    toc = time.perf_counter_ns()\n",
    "    timeTakenListBBR.append(toc - tic)\n",
    "    y += 1\n",
    "print(bestBinary)"
   ]
  },
  {
   "cell_type": "code",
   "execution_count": 55,
   "metadata": {},
   "outputs": [],
   "source": [
    "timeTakenBBRAvg = sum(timeTakenListBBR) / len(timeTakenListBBR)"
   ]
  },
  {
   "cell_type": "code",
   "execution_count": 56,
   "metadata": {
    "scrolled": true
   },
   "outputs": [
    {
     "name": "stdout",
     "output_type": "stream",
     "text": [
      "True\n"
     ]
    }
   ],
   "source": [
    "timeTakenListWBR = []\n",
    "y = 0\n",
    "while y < numOfIterations:\n",
    "    tic = time.perf_counter_ns()\n",
    "    bestBinary = binarySearchRecursive(sequence, bestCase_b)\n",
    "    toc = time.perf_counter_ns()\n",
    "    timeTakenListWBR.append(toc - tic)\n",
    "    y += 1\n",
    "print(bestBinary)"
   ]
  },
  {
   "cell_type": "code",
   "execution_count": 57,
   "metadata": {},
   "outputs": [],
   "source": [
    "timeTakenWBRAvg = sum(timeTakenListWBR) / len(timeTakenListWBR)"
   ]
  },
  {
   "cell_type": "code",
   "execution_count": 58,
   "metadata": {
    "scrolled": true
   },
   "outputs": [
    {
     "name": "stdout",
     "output_type": "stream",
     "text": [
      "True\n"
     ]
    }
   ],
   "source": [
    "timeTakenListMBR = []\n",
    "y = 0\n",
    "while y < numOfIterations:\n",
    "    tic = time.perf_counter_ns()\n",
    "    bestBinary = binarySearchRecursive(sequence, bestCase_b)\n",
    "    toc = time.perf_counter_ns()\n",
    "    timeTakenListMBR.append(toc - tic)\n",
    "    y += 1\n",
    "print(bestBinary)"
   ]
  },
  {
   "cell_type": "code",
   "execution_count": 59,
   "metadata": {},
   "outputs": [],
   "source": [
    "timeTakenMBRAvg = sum(timeTakenListMBR) / len(timeTakenListMBR)"
   ]
  },
  {
   "cell_type": "code",
   "execution_count": 60,
   "metadata": {},
   "outputs": [],
   "source": [
    "timeTakenListBinR = [timeTakenBBRAvg, timeTakenMBRAvg, timeTakenWBRAvg]\n",
    "casesListIn = [\"bestCase\", \"missingCase\", \"worstCase\"]"
   ]
  },
  {
   "cell_type": "code",
   "execution_count": 88,
   "metadata": {},
   "outputs": [
    {
     "data": {
      "image/png": "[encoded data removed]",
      "text/plain": [
       "<Figure size 432x288 with 1 Axes>"
      ]
     },
     "metadata": {
      "needs_background": "light"
     },
     "output_type": "display_data"
    }
   ],
   "source": [
    "plt.plot(casesListIn, timeTakenListBin)\n",
    "plt.ylabel('Time Taken (ns)')\n",
    "plt.title('Time taken for binary search recursively')\n",
    "plt.show()"
   ]
  },
  {
   "cell_type": "markdown",
   "metadata": {},
   "source": [
    "Binary Searches\n",
    "\n",
    "The Binary searches showed similar results to the linear search with the missing case being the worst time sink. However, the Bisect method took a particularly long time to find the best case value and a very quick time to find the supposedly worst case value. This may be due to the bisect() method searching the list differently to binary search."
   ]
  },
  {
   "cell_type": "markdown",
   "metadata": {},
   "source": [
    "## Curve Fit algorithms\n"
   ]
  },
  {
   "cell_type": "markdown",
   "metadata": {},
   "source": [
    "### Factorial computations - Iterative"
   ]
  },
  {
   "cell_type": "code",
   "execution_count": 62,
   "metadata": {},
   "outputs": [],
   "source": [
    "test_lol_i = []\n",
    "for i in range(numOfIterations):\n",
    "    test_lol_i += test_list_i\n",
    "test_lol_i.sort()"
   ]
  },
  {
   "cell_type": "markdown",
   "metadata": {},
   "source": [
    "Create two lists with the factorials in one list repeated and one long list of the time takens repeating in the same order as the factorials.\n"
   ]
  },
  {
   "cell_type": "code",
   "execution_count": 63,
   "metadata": {},
   "outputs": [],
   "source": [
    "timeTaken_i = []\n",
    "for i in timePerFact_i:\n",
    "    for j in i:\n",
    "        timeTaken_i.append(j)"
   ]
  },
  {
   "cell_type": "code",
   "execution_count": 64,
   "metadata": {},
   "outputs": [],
   "source": [
    "test_list_i_array = np.array(test_list_i)\n",
    "x_axis_train_i = test_list_i_array.reshape(-1, 1)\n",
    "timeTakenList_i_array = np.array(timeTakenLists_i[0])\n",
    "y_axis_train_i = timeTakenList_i_array.reshape(-1, 1)"
   ]
  },
  {
   "cell_type": "code",
   "execution_count": 89,
   "metadata": {},
   "outputs": [
    {
     "name": "stdout",
     "output_type": "stream",
     "text": [
      "Coefficients: [[551.28074572]]\n",
      "Mean squared error: 7876295114.18\n",
      "Coefficient of determination: 0.88\n"
     ]
    },
    {
     "data": {
      "image/png": "[encoded data removed]",
      "text/plain": [
       "<Figure size 432x288 with 1 Axes>"
      ]
     },
     "metadata": {},
     "output_type": "display_data"
    }
   ],
   "source": [
    "test_lol_i_array = np.array(test_lol_i)\n",
    "timeTaken_i_array = np.array(timeTaken_i)\n",
    "x_axis_test_i = (test_lol_i_array[len(test_list_i):]).reshape(-1, 1)\n",
    "y_axis_test_i = (timeTaken_i_array[len(test_list_i):]).reshape(-1, 1)\n",
    "\n",
    "regr_i = linear_model.LinearRegression()\n",
    "\n",
    "regr_i.fit(x_axis_train_i, y_axis_train_i)\n",
    "\n",
    "y_pred_i = regr_i.predict(x_axis_test_i)\n",
    "\n",
    "print('Coefficients:', regr_i.coef_)\n",
    "# The mean squared error\n",
    "print('Mean squared error: %.2f'\n",
    "      % mean_squared_error(y_axis_test_i, y_pred_i))\n",
    "# The coefficient of determination: 1 is perfect prediction\n",
    "print('Coefficient of determination: %.2f'\n",
    "      % r2_score(y_axis_test_i, y_pred_i))\n",
    "\n",
    "plt.scatter(x_axis_test_i, y_axis_test_i, color='blue')\n",
    "plt.plot(x_axis_test_i, y_pred_i, color='red')\n",
    "\n",
    "plt.xticks(())\n",
    "plt.yticks(())\n",
    "plt.title('Curve Fit Iterative Factorial')\n",
    "plt.show()\n"
   ]
  },
  {
   "cell_type": "markdown",
   "metadata": {},
   "source": [
    "### Factorial Computations - Recursive"
   ]
  },
  {
   "cell_type": "code",
   "execution_count": 66,
   "metadata": {},
   "outputs": [],
   "source": [
    "test_lol_r = []\n",
    "for i in range(numOfIterations):\n",
    "    test_lol_r += test_list_r\n",
    "test_lol_r.sort()"
   ]
  },
  {
   "cell_type": "code",
   "execution_count": 67,
   "metadata": {},
   "outputs": [],
   "source": [
    "timeTaken_r = []\n",
    "for i in timePerFact_r:\n",
    "    for j in i:\n",
    "        timeTaken_r.append(j)"
   ]
  },
  {
   "cell_type": "code",
   "execution_count": 68,
   "metadata": {},
   "outputs": [],
   "source": [
    "test_list_r_array = np.array(test_list_r)\n",
    "x_axis_train_r = test_list_r_array.reshape(-1, 1)\n",
    "timeTakenList_r_array = np.array(timeTakenLists_r[0])\n",
    "y_axis_train_r = timeTakenList_r_array.reshape(-1, 1)"
   ]
  },
  {
   "cell_type": "code",
   "execution_count": 90,
   "metadata": {},
   "outputs": [
    {
     "name": "stdout",
     "output_type": "stream",
     "text": [
      "Coefficients: [[34042.78578388]]\n",
      "Mean squared error: 1438733861452928.25\n",
      "Coefficient of determination: 0.16\n"
     ]
    },
    {
     "data": {
      "image/png": "[encoded data removed]",
      "text/plain": [
       "<Figure size 432x288 with 1 Axes>"
      ]
     },
     "metadata": {},
     "output_type": "display_data"
    }
   ],
   "source": [
    "test_lol_r_array = np.array(test_lol_r)\n",
    "timeTaken_r_array = np.array(timeTaken_r)\n",
    "x_axis_test_r = (test_lol_r_array[len(test_list_r):]).reshape(-1, 1)\n",
    "y_axis_test_r = (timeTaken_r_array[len(test_list_r):]).reshape(-1, 1)\n",
    "\n",
    "regr_r = linear_model.LinearRegression()\n",
    "\n",
    "regr_r.fit(x_axis_train_r, y_axis_train_r)\n",
    "\n",
    "y_pred_r = regr_r.predict(x_axis_test_r)\n",
    "\n",
    "print('Coefficients:', regr_r.coef_)\n",
    "# The mean squared error\n",
    "print('Mean squared error: %.2f'\n",
    "      % mean_squared_error(y_axis_test_r, y_pred_r))\n",
    "# The coefficient of determination: 1 is perfect prediction\n",
    "print('Coefficient of determination: %.2f'\n",
    "      % r2_score(y_axis_test_r, y_pred_r))\n",
    "\n",
    "plt.scatter(x_axis_test_r, y_axis_test_r, color='blue')\n",
    "plt.plot(x_axis_test_r, y_pred_r, color='red')\n",
    "\n",
    "plt.xticks(())\n",
    "plt.yticks(())\n",
    "plt.title('Cure Fit Recursive Factorial')\n",
    "plt.show()\n"
   ]
  },
  {
   "cell_type": "code",
   "execution_count": null,
   "metadata": {},
   "outputs": [],
   "source": []
  },
  {
   "cell_type": "markdown",
   "metadata": {},
   "source": [
    "### Linear Search"
   ]
  },
  {
   "cell_type": "code",
   "execution_count": 70,
   "metadata": {},
   "outputs": [],
   "source": [
    "test_cases_l = [bestCase_lin, worstCase_lin, missingCase_lin]"
   ]
  },
  {
   "cell_type": "code",
   "execution_count": 71,
   "metadata": {},
   "outputs": [
    {
     "name": "stdout",
     "output_type": "stream",
     "text": [
      "27\n"
     ]
    }
   ],
   "source": [
    "test_loc_l = []\n",
    "for i in range(numOfIterations - 1):\n",
    "    test_loc_l += test_cases_l\n",
    "test_loc_l.sort()\n",
    "print(len(test_loc_l))"
   ]
  },
  {
   "cell_type": "code",
   "execution_count": 72,
   "metadata": {},
   "outputs": [],
   "source": [
    "timeTaken_linear = [timeTakenListBL,timeTakenListWL,timeTakenListML]\n",
    "timeTaken_l = []\n",
    "for i in timeTaken_linear:\n",
    "    for j in i:\n",
    "        timeTaken_l.append(j)"
   ]
  },
  {
   "cell_type": "code",
   "execution_count": 73,
   "metadata": {},
   "outputs": [],
   "source": [
    "test_cases_l_array = np.array(test_cases_l)\n",
    "x_axis_train_l = test_cases_l_array.reshape(-1, 1)\n",
    "\n",
    "timeTaken_l_array = np.array([timeTakenListBL[0],timeTakenListWL[0],timeTakenListML[0]])\n",
    "y_axis_train_l = timeTaken_l_array.reshape(-1, 1)\n"
   ]
  },
  {
   "cell_type": "code",
   "execution_count": 74,
   "metadata": {},
   "outputs": [],
   "source": [
    "timeTakenListBL_test = timeTakenListBL.copy()\n",
    "del timeTakenListBL_test[0]\n",
    "timeTakenListWL_test = timeTakenListWL.copy()\n",
    "del timeTakenListWL_test[0]\n",
    "timeTakenListML_test = timeTakenListML.copy()\n",
    "del timeTakenListML_test[0]\n",
    "timeTaken_test_l = [timeTakenListBL_test,timeTakenListWL_test,timeTakenListML_test]"
   ]
  },
  {
   "cell_type": "code",
   "execution_count": 91,
   "metadata": {},
   "outputs": [
    {
     "name": "stdout",
     "output_type": "stream",
     "text": [
      "Coefficients: [[5.84679767e-260]]\n",
      "Mean squared error: 46320536.69\n",
      "Coefficient of determination: -6.27\n"
     ]
    },
    {
     "data": {
      "image/png": "[encoded data removed]",
      "text/plain": [
       "<Figure size 432x288 with 1 Axes>"
      ]
     },
     "metadata": {},
     "output_type": "display_data"
    }
   ],
   "source": [
    "test_loc_l_array = np.array(test_loc_l)\n",
    "timeTaken_test_l_array = np.array(timeTaken_test_l)\n",
    "x_axis_test_l = (test_loc_l_array).reshape(-1, 1)\n",
    "y_axis_test_l = (timeTaken_test_l_array).reshape(-1, 1)\n",
    "\n",
    "regr_l = linear_model.LinearRegression()\n",
    "\n",
    "regr_l.fit(x_axis_train_l, y_axis_train_l)\n",
    "\n",
    "y_pred_l = regr_l.predict(x_axis_test_l)\n",
    "\n",
    "print('Coefficients:', regr_l.coef_)\n",
    "# The mean squared error\n",
    "print('Mean squared error: %.2f'\n",
    "      % mean_squared_error(y_axis_test_l, y_pred_l))\n",
    "# The coefficient of determination: 1 is perfect prediction\n",
    "print('Coefficient of determination: %.2f'\n",
    "      % r2_score(y_axis_test_l, y_pred_l))\n",
    "\n",
    "plt.scatter(x_axis_test_l, y_axis_test_l, color='blue')\n",
    "plt.plot(x_axis_test_l, y_pred_l, color='red')\n",
    "\n",
    "plt.xticks(())\n",
    "plt.yticks(())\n",
    "plt.title('Curve Fit Linear Search')\n",
    "plt.show()\n"
   ]
  },
  {
   "cell_type": "code",
   "execution_count": null,
   "metadata": {},
   "outputs": [],
   "source": []
  },
  {
   "cell_type": "markdown",
   "metadata": {},
   "source": [
    "### Binary Search"
   ]
  },
  {
   "cell_type": "code",
   "execution_count": 76,
   "metadata": {},
   "outputs": [],
   "source": [
    "test_cases_b = [bestCase_b, worstCase_b]"
   ]
  },
  {
   "cell_type": "code",
   "execution_count": 77,
   "metadata": {},
   "outputs": [
    {
     "name": "stdout",
     "output_type": "stream",
     "text": [
      "18\n"
     ]
    }
   ],
   "source": [
    "test_loc_b = []\n",
    "for i in range(numOfIterations - 1):\n",
    "    test_loc_b += test_cases_b\n",
    "test_loc_b.sort()\n",
    "print(len(test_loc_b))"
   ]
  },
  {
   "cell_type": "code",
   "execution_count": 78,
   "metadata": {},
   "outputs": [],
   "source": [
    "timeTaken_binary = [timeTakenListBB,timeTakenListWB]\n",
    "timeTaken_b = []\n",
    "for i in timeTaken_binary:\n",
    "    for j in i:\n",
    "        timeTaken_b.append(j)"
   ]
  },
  {
   "cell_type": "code",
   "execution_count": 79,
   "metadata": {},
   "outputs": [
    {
     "name": "stdout",
     "output_type": "stream",
     "text": [
      "[[24809140811395398091946477116594033660926243886570122837795894512655842677572867409443815424000000000000000000]\n",
      " [57133839564458545904789328652610540031895535786011264182548375833179829124845398393126574488675311145377107878746854204162666250198684504466355949195922066574942592095735778929325357290444962472405416790722118445437122269675520000000000000000000000000000000000000]]\n",
      "[[6685]\n",
      " [4396]]\n"
     ]
    }
   ],
   "source": [
    "test_cases_b_array = np.array(test_cases_b)\n",
    "x_axis_train_b = test_cases_b_array.reshape(-1, 1)\n",
    "print(x_axis_train_b)\n",
    "timeTaken_b_array = np.array([timeTakenListBB[0],timeTakenListWB[0]])\n",
    "y_axis_train_b = timeTaken_b_array.reshape(-1, 1)\n",
    "print(y_axis_train_b)"
   ]
  },
  {
   "cell_type": "code",
   "execution_count": 80,
   "metadata": {},
   "outputs": [],
   "source": [
    "timeTakenListBB_test = timeTakenListBB.copy()\n",
    "del timeTakenListBB_test[0]\n",
    "timeTakenListWB_test = timeTakenListWB.copy()\n",
    "del timeTakenListWB_test[0]\n",
    "timeTaken_test_b = [timeTakenListBB_test,timeTakenListWB_test]"
   ]
  },
  {
   "cell_type": "code",
   "execution_count": 92,
   "metadata": {},
   "outputs": [
    {
     "name": "stdout",
     "output_type": "stream",
     "text": [
      "Coefficients: [[-4.00638224e-260]]\n",
      "Mean squared error: 22597617.78\n",
      "Coefficient of determination: -514.45\n"
     ]
    },
    {
     "data": {
      "image/png": "[encoded data removed]",
      "text/plain": [
       "<Figure size 432x288 with 1 Axes>"
      ]
     },
     "metadata": {},
     "output_type": "display_data"
    }
   ],
   "source": [
    "test_loc_b_array = np.array(test_loc_b)\n",
    "timeTaken_test_b_array = np.array(timeTaken_test_b)\n",
    "x_axis_test_b = (test_loc_b_array).reshape(-1, 1)\n",
    "y_axis_test_b = (timeTaken_test_b_array).reshape(-1, 1)\n",
    "\n",
    "regr_b = linear_model.LinearRegression()\n",
    "\n",
    "regr_b.fit(x_axis_train_b, y_axis_train_b)\n",
    "\n",
    "y_pred_b = regr_b.predict(x_axis_test_b)\n",
    "\n",
    "print('Coefficients:', regr_b.coef_)\n",
    "# The mean squared error\n",
    "print('Mean squared error: %.2f'\n",
    "      % mean_squared_error(y_axis_test_b, y_pred_b))\n",
    "# The coefficient of determination: 1 is perfect prediction\n",
    "print('Coefficient of determination: %.2f'\n",
    "      % r2_score(y_axis_test_b, y_pred_b))\n",
    "\n",
    "plt.scatter(x_axis_test_b, y_axis_test_b, color='blue')\n",
    "plt.plot(x_axis_test_b, y_pred_b, color='red')\n",
    "\n",
    "plt.xticks(())\n",
    "plt.yticks(())\n",
    "plt.title('Curve Fit Binary Search')\n",
    "plt.show()\n"
   ]
  }
 ],
 "metadata": {
  "kernelspec": {
   "display_name": "Python 3",
   "language": "python",
   "name": "python3"
  },
  "language_info": {
   "codemirror_mode": {
    "name": "ipython",
    "version": 3
   },
   "file_extension": ".py",
   "mimetype": "text/x-python",
   "name": "python",
   "nbconvert_exporter": "python",
   "pygments_lexer": "ipython3",
   "version": "3.8.8"
  }
 },
 "nbformat": 4,
 "nbformat_minor": 4
}
